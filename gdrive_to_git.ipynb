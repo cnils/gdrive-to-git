{
 "cells": [
  {
   "attachments": {},
   "cell_type": "markdown",
   "id": "c45acd0e-2ce5-41bd-8962-aab4b0c8caf8",
   "metadata": {
    "id": "c45acd0e-2ce5-41bd-8962-aab4b0c8caf8"
   },
   "source": [
    "# Google Workspace APIs\n",
    "Use Google's Workspace API (managed here https://console.cloud.google.com/) for various tasks.\n",
    "\n",
    "Credentials can be downloaded as `credentials.json` from the API Credentials and used to produce `token.json` for persistent use. OAuth 2.0 requires the redirect URI in the app and in the \"Flow\" - within the code - to be the same (the default port for localhost is 8080). It's also worth noting that for apps in \"testing,\" users need to be added via the OAuth consent screen, although in testing \"scope\" does not need to be specified in the API (it can be tested and switched in the code). Token may be refreshed by deleting `token.json` before running code.\n",
    "\n",
    "Use for a project already on Google Drive:\n",
    "1. Determine the folder's ID and use in the code below.\n",
    "2. Write the new folder to a different location than the original.\n",
    "3. Copy the `.git` folder and `.gitignore` file to the original location.\n",
    "4. Open the project and ensure no changes are pending or staged (may require `git add --renormalize .`).\n",
    "5. Push the project to the remote. \n",
    "\n",
    "TODO:\n",
    "<!-- OPEN -->\n",
    "- finish packaging and ensure `setup.py` is correct\n",
    "- redesign package for CLI use\n",
    "- move config to `.json` file or as arguments for CLI use\n",
    "- fix recursive functions holding terminal output in argument line\n",
    "\n",
    "<!-- CLOSED -->\n",
    "<!-- - COMPLETE: convert to `.py` files -->\n",
    "<!-- - COMPLETE: add user config method -->\n",
    "<!-- - COMPLETE: fix bundle == max_commits (changed attribute without copying) -->\n",
    "<!-- - COMPLETE: split git functions into another class -->\n",
    "<!-- - COMPLETE: add folder/file ignore features -->\n",
    "<!-- - COMPLETE: account for revisions not being found -->\n",
    "<!-- - COMPLETE: enable use of folder ID from Google Drive rather than using `folder` -->\n",
    "<!-- - COMPLETE: use only the last bundle of files per commit -->\n",
    "<!-- - COMPLETE: fix bundle commits to be committed on last date, rather than first -->\n",
    "<!-- - COMPLETE: bundle commits oldest to newest (to prevent older versions overwriting newer ones within bundles) -->\n",
    "<!-- - REMOVED: sync file ignore and gitignore (split between ignore_folders and ignore_files) -->"
   ]
  },
  {
   "cell_type": "markdown",
   "id": "6d54819b-412a-41ca-8df4-ba3d0280ed3b",
   "metadata": {
    "id": "6d54819b-412a-41ca-8df4-ba3d0280ed3b"
   },
   "source": [
    "Import packages."
   ]
  },
  {
   "cell_type": "code",
   "execution_count": null,
   "id": "b28f3663-9195-43c9-8916-dd71bf44cfa2",
   "metadata": {
    "id": "b28f3663-9195-43c9-8916-dd71bf44cfa2"
   },
   "outputs": [],
   "source": [
    "import google_drive\n",
    "import drive2git"
   ]
  },
  {
   "cell_type": "markdown",
   "id": "abbc79cc-d806-42b8-b480-330cad753a28",
   "metadata": {
    "id": "abbc79cc-d806-42b8-b480-330cad753a28"
   },
   "source": [
    "## Commit to new `git` repo\n",
    "The GitPython package is as lazy as possible meaning that it takes arguments from existing git environmental variables where possible."
   ]
  },
  {
   "cell_type": "markdown",
   "id": "ee0eae73-d36b-4dd4-a14b-d95b187b73f5",
   "metadata": {
    "id": "ee0eae73-d36b-4dd4-a14b-d95b187b73f5"
   },
   "source": [
    "Connect to API."
   ]
  },
  {
   "cell_type": "code",
   "execution_count": null,
   "id": "7194e137-0a7f-4a80-a1ac-425b912a5d9f",
   "metadata": {
    "id": "7194e137-0a7f-4a80-a1ac-425b912a5d9f"
   },
   "outputs": [],
   "source": [
    "drive = google_drive.GoogleDrive()"
   ]
  },
  {
   "cell_type": "markdown",
   "id": "8289f846-86c2-4de2-b488-2875a41dafbd",
   "metadata": {},
   "source": [
    "Scout folders, files, and revisions and create git repo."
   ]
  },
  {
   "cell_type": "code",
   "execution_count": null,
   "id": "9c7f915d-30c2-441a-97e1-fad35124ab2a",
   "metadata": {
    "id": "9c7f915d-30c2-441a-97e1-fad35124ab2a",
    "tags": []
   },
   "outputs": [],
   "source": [
    "# folder = drive.id_search('google_workspace', ftype='folder')[0]\n",
    "# folder = drive.id_get('10oJBulB5E6_zdBhuuV6Qk41yTWPKoo8D')\n",
    "# folder = drive.id_get('1bl4_YuEEos6eyKmqtGGLA_GGe9HI2YLL')\n",
    "folder = drive.id_get('1WyTuCsWUUj0dlr1xqtP2NU971Lg7zt-l')\n",
    "# folder = drive.id_get('1O0ehM_UPc9Ya6-TDemyKlth3jCMkIV3X')\n",
    "\n",
    "config = {\n",
    "    'name': 'Craig N',\n",
    "    'email': '7h47ch@gmail.com',\n",
    "    'tz': 'US/Eastern'\n",
    "}\n",
    "\n",
    "g = drive2git.Drive2Git(drive, folder, local_path='C:\\\\Users\\\\7h47c\\\\Desktop',\n",
    "              config=config,\n",
    "              ignore_folders=['__pycache__'],\n",
    "              # ignore_folders=['.ipynb_checkpoints'],\n",
    "              # ignore_files=['credentials.json','token.json'])\n",
    "              ignore_files=[])\n",
    "g.make_repo(remove='all')"
   ]
  }
 ],
 "metadata": {
  "colab": {
   "name": "google_apis.ipynb",
   "provenance": []
  },
  "kernelspec": {
   "display_name": "Python 3 (ipykernel)",
   "language": "python",
   "name": "python3"
  },
  "language_info": {
   "codemirror_mode": {
    "name": "ipython",
    "version": 3
   },
   "file_extension": ".py",
   "mimetype": "text/x-python",
   "name": "python",
   "nbconvert_exporter": "python",
   "pygments_lexer": "ipython3",
   "version": "3.10.11"
  }
 },
 "nbformat": 4,
 "nbformat_minor": 5
}
