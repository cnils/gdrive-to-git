{
 "cells": [
  {
   "cell_type": "code",
   "execution_count": null,
   "id": "4d058703-e0c5-4b15-80de-797fd633e804",
   "metadata": {},
   "outputs": [],
   "source": [
    "import numpy as np"
   ]
  },
  {
   "cell_type": "code",
   "execution_count": null,
   "id": "62083183-a2cb-451d-abfc-d36f69c01d45",
   "metadata": {},
   "outputs": [],
   "source": [
    "l = np.random.randint(0, 4000, size=40).tolist()\n",
    "l = sorted(l)"
   ]
  },
  {
   "cell_type": "code",
   "execution_count": null,
   "id": "32b57bb4-8491-47ec-8350-1e9a8b0b9c45",
   "metadata": {},
   "outputs": [],
   "source": [
    "def bundle(l, threshold=240):\n",
    "    lst = l.copy()\n",
    "    out = {}\n",
    "    nums = []\n",
    "    \n",
    "    while len(lst) > 0:\n",
    "        i = lst.pop(0)\n",
    "        # existing bundle\n",
    "        if len(nums) > 0:\n",
    "            # within bundle threshold\n",
    "            if i - nums[-1] < threshold:\n",
    "                # grow bundle\n",
    "                nums.append(i)\n",
    "            else:\n",
    "                # append previous bundle\n",
    "                out.update({nums[-1]: {'nums': nums}})\n",
    "                \n",
    "                # start new bundle\n",
    "                nums = [i]\n",
    "                \n",
    "            # append final bundle\n",
    "            if len(lst) == 0:\n",
    "                out.update({nums[-1]: {'nums': nums}})\n",
    "                \n",
    "        # start bundle\n",
    "        else:\n",
    "            nums = [i]\n",
    "            \n",
    "    return out\n",
    "\n",
    "bundle(l)"
   ]
  }
 ],
 "metadata": {
  "kernelspec": {
   "display_name": "Python 3",
   "language": "python",
   "name": "python3"
  },
  "language_info": {
   "codemirror_mode": {
    "name": "ipython",
    "version": 3
   },
   "file_extension": ".py",
   "mimetype": "text/x-python",
   "name": "python",
   "nbconvert_exporter": "python",
   "pygments_lexer": "ipython3",
   "version": "3.7.9"
  }
 },
 "nbformat": 4,
 "nbformat_minor": 5
}
