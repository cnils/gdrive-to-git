{
 "cells": [
  {
   "cell_type": "markdown",
   "id": "c45acd0e-2ce5-41bd-8962-aab4b0c8caf8",
   "metadata": {
    "id": "c45acd0e-2ce5-41bd-8962-aab4b0c8caf8"
   },
   "source": [
    "# Google Workspace APIs\n",
    "Use Google's Workspace API (managed here https://console.cloud.google.com/) for various tasks.\n",
    "\n",
    "Credentials can be downloaded as `credentials.json` from the API Credentials and used to produce `token.json` for persistent use. OAuth 2.0 requires the redirect URI in the app and in the \"Flow\" - within the code - to be the same (the default port for localhost is 8080). It's also worth noting that for apps in \"testing,\" users need to be added via the OAuth consent screen, although in testing \"scope\" does not need to be specified in the API (it can be tested and switched in the code)."
   ]
  },
  {
   "cell_type": "markdown",
   "id": "6d54819b-412a-41ca-8df4-ba3d0280ed3b",
   "metadata": {
    "id": "6d54819b-412a-41ca-8df4-ba3d0280ed3b"
   },
   "source": [
    "Import packages."
   ]
  },
  {
   "cell_type": "code",
   "execution_count": 1,
   "id": "b28f3663-9195-43c9-8916-dd71bf44cfa2",
   "metadata": {
    "id": "b28f3663-9195-43c9-8916-dd71bf44cfa2"
   },
   "outputs": [],
   "source": [
    "import io\n",
    "import os.path\n",
    "from google.auth.transport.requests import Request\n",
    "from google.oauth2.credentials import Credentials\n",
    "from google_auth_oauthlib.flow import InstalledAppFlow\n",
    "from googleapiclient.discovery import build\n",
    "from googleapiclient.errors import HttpError\n",
    "from googleapiclient.http import MediaIoBaseDownload\n",
    "import pytz\n",
    "import datetime\n",
    "import git"
   ]
  },
  {
   "cell_type": "markdown",
   "id": "70b304da-a9ca-44ce-8ea9-61b5cff1beb9",
   "metadata": {
    "id": "70b304da-a9ca-44ce-8ea9-61b5cff1beb9"
   },
   "source": [
    "Google API class (based on `quickstart.py`)."
   ]
  },
  {
   "cell_type": "code",
   "execution_count": 2,
   "id": "5abd2173-0ae3-404e-aa64-7cfb07ebf85e",
   "metadata": {
    "id": "5abd2173-0ae3-404e-aa64-7cfb07ebf85e"
   },
   "outputs": [],
   "source": [
    "class GoogleDrive:\n",
    "    def __init__(self):\n",
    "        # delete token.json before changing these\n",
    "        self.scopes = [\n",
    "            # 'https://www.googleapis.com/auth/drive.metadata.readonly',\n",
    "            'https://www.googleapis.com/auth/drive.readonly'\n",
    "        ]\n",
    "        self.creds = None\n",
    "        self.credentials()\n",
    "        self.connect()\n",
    "    \n",
    "    def credentials(self):\n",
    "        # store credentials (user access and refresh tokens)\n",
    "        if os.path.exists('token.json'):\n",
    "            self.creds = Credentials.from_authorized_user_file('token.json', self.scopes)\n",
    "        # if no (valid) credentials available, let user log in\n",
    "        if not self.creds or not self.creds.valid:\n",
    "            if self.creds and self.creds.expired and self.creds.refresh_token:\n",
    "                self.creds.refresh(Request())\n",
    "            else:\n",
    "                flow = InstalledAppFlow.from_client_secrets_file('credentials.json', self.scopes)\n",
    "                self.creds = flow.run_local_server()  # port MUST match redirect URI in Google App\n",
    "            # save credentials for the next run\n",
    "            with open('token.json', 'w') as token:\n",
    "                token.write(self.creds.to_json())\n",
    "                \n",
    "    def connect(self):\n",
    "        # attempt to connect to the API\n",
    "        try:\n",
    "            self.service = build('drive', 'v3', credentials=self.creds)\n",
    "            # self.service = build('gmail', 'v1', credentials=self.creds)  # use later for gmail...\n",
    "        except HttpError as error:\n",
    "            print(f'An error occurred: {error}')\n",
    "            \n",
    "    def get_id(self, values, term='name', operator='=', ftype='file', ignore_trashed=True):\n",
    "        q = f'{term} {operator} \"{values}\" '\n",
    "        if ftype == 'folder':\n",
    "            q += 'and mimeType = \"application/vnd.google-apps.folder\" '\n",
    "        elif ftype == 'json':\n",
    "            q += 'and mimeType = \"application/json\" '\n",
    "        if ignore_trashed:\n",
    "            q += 'and trashed = false'\n",
    "        l = self.service.files().list(q=q).execute()\n",
    "        \n",
    "        return l['files']\n",
    "            \n",
    "    def folder_contents(self, i, ignore_trashed=True):\n",
    "        q = f'\"{i}\" in parents '\n",
    "        if ignore_trashed:\n",
    "            q += 'and trashed = false '\n",
    "        l = g.service.files().list(q=q).execute()\n",
    "        \n",
    "        return l['files']\n",
    "        \n",
    "    def get_revisions(self, i):\n",
    "        try:\n",
    "            r = self.service.revisions().list(fileId=i).execute()\n",
    "        \n",
    "            return r['revisions']\n",
    "        \n",
    "        except:\n",
    "            return\n",
    "        \n",
    "    def qry_fields(self, i, r=None, fields=['parents']):\n",
    "        if r is None:\n",
    "            p = self.service.files().get(fileId=i, fields=','.join(fields)).execute()\n",
    "        else:\n",
    "            p = self.service.revisions().get(fileId=i, revisionId=r, fields=','.join(fields)).execute()\n",
    "        \n",
    "        return {f: p[f] for f in fields}\n",
    "    \n",
    "    def stream_file(self, i, r=None, out='stream', verbose=False):\n",
    "        if r is None:\n",
    "            request = self.service.files().get_media(fileId=i)\n",
    "        else:\n",
    "            request = self.service.revisions().get_media(fileId=i, revisionId=r)\n",
    "        \n",
    "        if out in ['stream', 'str']:\n",
    "            stream = io.BytesIO()\n",
    "        else:\n",
    "            stream = io.FileIO(out, mode='w')\n",
    "        downloader = MediaIoBaseDownload(stream, request)\n",
    "        done = False\n",
    "        while not done:\n",
    "            status, done = downloader.next_chunk()\n",
    "            if verbose:\n",
    "                print(f'Download {int(status.progress() * 100)}%')\n",
    "        if verbose:\n",
    "            print(f'Size {status.total_size / 1024 / 1024:.2f}MB')\n",
    "\n",
    "        if out in ['str']:\n",
    "            return stream.getvalue()\n",
    "        else:\n",
    "            return stream"
   ]
  },
  {
   "cell_type": "markdown",
   "id": "ee0eae73-d36b-4dd4-a14b-d95b187b73f5",
   "metadata": {
    "id": "ee0eae73-d36b-4dd4-a14b-d95b187b73f5"
   },
   "source": [
    "Connect to API."
   ]
  },
  {
   "cell_type": "code",
   "execution_count": 3,
   "id": "7194e137-0a7f-4a80-a1ac-425b912a5d9f",
   "metadata": {
    "id": "7194e137-0a7f-4a80-a1ac-425b912a5d9f"
   },
   "outputs": [],
   "source": [
    "g = GoogleDrive()"
   ]
  },
  {
   "cell_type": "markdown",
   "id": "bae14cc1-6ff9-4cf1-9890-98f5550c65e4",
   "metadata": {
    "id": "bae14cc1-6ff9-4cf1-9890-98f5550c65e4"
   },
   "source": [
    "## Get data"
   ]
  },
  {
   "cell_type": "code",
   "execution_count": null,
   "id": "9302ce70-55af-4617-a4b6-0ba958c0d4e1",
   "metadata": {
    "id": "9302ce70-55af-4617-a4b6-0ba958c0d4e1",
    "tags": []
   },
   "outputs": [],
   "source": [
    "# get file info\n",
    "matches = g.get_id('demographics_module_v2.ipynb')\n",
    "parents = [g.qry_fields(m['id']) for m in matches][0]\n",
    "revisions = [g.get_revisions(m['id']) for m in matches][0]\n",
    "orig = [{m['name']: g.qry_fields(m['id'], fields=['originalFilename'])} for m in matches]"
   ]
  },
  {
   "cell_type": "markdown",
   "id": "abbc79cc-d806-42b8-b480-330cad753a28",
   "metadata": {
    "id": "abbc79cc-d806-42b8-b480-330cad753a28"
   },
   "source": [
    "## Commit to new `git` repo"
   ]
  },
  {
   "cell_type": "code",
   "execution_count": 4,
   "id": "9c7f915d-30c2-441a-97e1-fad35124ab2a",
   "metadata": {
    "id": "9c7f915d-30c2-441a-97e1-fad35124ab2a",
    "tags": []
   },
   "outputs": [
    {
     "name": "stdout",
     "output_type": "stream",
     "text": [
      "2022-02-25T21:33:07.000Z\n"
     ]
    },
    {
     "ename": "ValueError",
     "evalue": "Unsupported date format or type: time.struct_time(tm_year=2022, tm_mon=2, tm_mday=25, tm_hour=21, tm_min=33, tm_sec=7, tm_wday=4, tm_yday=56, tm_isdst=0), type=<class 'time.struct_time'>",
     "output_type": "error",
     "traceback": [
      "\u001b[1;31m---------------------------------------------------------------------------\u001b[0m",
      "\u001b[1;31mTypeError\u001b[0m                                 Traceback (most recent call last)",
      "\u001b[1;32mc:\\programdata\\miniconda3\\lib\\site-packages\\git\\objects\\util.py\u001b[0m in \u001b[0;36mparse_date\u001b[1;34m(string_date)\u001b[0m\n\u001b[0;32m    208\u001b[0m             \u001b[0moffset_str\u001b[0m \u001b[1;33m=\u001b[0m \u001b[1;34m\"+0000\"\u001b[0m                    \u001b[1;31m# local time by default\u001b[0m\u001b[1;33m\u001b[0m\u001b[1;33m\u001b[0m\u001b[0m\n\u001b[1;32m--> 209\u001b[1;33m             \u001b[1;32mif\u001b[0m \u001b[0mstring_date\u001b[0m\u001b[1;33m[\u001b[0m\u001b[1;33m-\u001b[0m\u001b[1;36m5\u001b[0m\u001b[1;33m]\u001b[0m \u001b[1;32min\u001b[0m \u001b[1;34m'-+'\u001b[0m\u001b[1;33m:\u001b[0m\u001b[1;33m\u001b[0m\u001b[1;33m\u001b[0m\u001b[0m\n\u001b[0m\u001b[0;32m    210\u001b[0m                 \u001b[0moffset_str\u001b[0m \u001b[1;33m=\u001b[0m \u001b[0mverify_utctz\u001b[0m\u001b[1;33m(\u001b[0m\u001b[0mstring_date\u001b[0m\u001b[1;33m[\u001b[0m\u001b[1;33m-\u001b[0m\u001b[1;36m5\u001b[0m\u001b[1;33m:\u001b[0m\u001b[1;33m]\u001b[0m\u001b[1;33m)\u001b[0m\u001b[1;33m\u001b[0m\u001b[1;33m\u001b[0m\u001b[0m\n",
      "\u001b[1;31mTypeError\u001b[0m: 'in <string>' requires string as left operand, not int",
      "\nThe above exception was the direct cause of the following exception:\n",
      "\u001b[1;31mValueError\u001b[0m                                Traceback (most recent call last)",
      "\u001b[1;32m<ipython-input-4-fbabc820f131>\u001b[0m in \u001b[0;36m<module>\u001b[1;34m\u001b[0m\n\u001b[0;32m     25\u001b[0m     \u001b[1;31m# commit to repo\u001b[0m\u001b[1;33m\u001b[0m\u001b[1;33m\u001b[0m\u001b[1;33m\u001b[0m\u001b[0m\n\u001b[0;32m     26\u001b[0m     \u001b[0mrepo\u001b[0m\u001b[1;33m.\u001b[0m\u001b[0mindex\u001b[0m\u001b[1;33m.\u001b[0m\u001b[0madd\u001b[0m\u001b[1;33m(\u001b[0m\u001b[1;33m[\u001b[0m\u001b[0mfile_path\u001b[0m\u001b[1;33m]\u001b[0m\u001b[1;33m)\u001b[0m\u001b[1;33m\u001b[0m\u001b[1;33m\u001b[0m\u001b[0m\n\u001b[1;32m---> 27\u001b[1;33m     \u001b[0mrepo\u001b[0m\u001b[1;33m.\u001b[0m\u001b[0mindex\u001b[0m\u001b[1;33m.\u001b[0m\u001b[0mcommit\u001b[0m\u001b[1;33m(\u001b[0m\u001b[1;34mf'Version {i+1} commit.'\u001b[0m\u001b[1;33m,\u001b[0m \u001b[0mcommit_date\u001b[0m\u001b[1;33m=\u001b[0m\u001b[0mcdate\u001b[0m\u001b[1;33m.\u001b[0m\u001b[0mutctimetuple\u001b[0m\u001b[1;33m(\u001b[0m\u001b[1;33m)\u001b[0m\u001b[1;33m)\u001b[0m  \u001b[1;31m# add author or committer args\u001b[0m\u001b[1;33m\u001b[0m\u001b[1;33m\u001b[0m\u001b[0m\n\u001b[0m\u001b[0;32m     28\u001b[0m \u001b[1;33m\u001b[0m\u001b[0m\n\u001b[0;32m     29\u001b[0m     \u001b[1;31m# remove temporary file\u001b[0m\u001b[1;33m\u001b[0m\u001b[1;33m\u001b[0m\u001b[1;33m\u001b[0m\u001b[0m\n",
      "\u001b[1;32mc:\\programdata\\miniconda3\\lib\\site-packages\\git\\index\\base.py\u001b[0m in \u001b[0;36mcommit\u001b[1;34m(self, message, parent_commits, head, author, committer, author_date, commit_date, skip_hooks)\u001b[0m\n\u001b[0;32m    992\u001b[0m         rval = Commit.create_from_tree(self.repo, tree, message, parent_commits,\n\u001b[0;32m    993\u001b[0m                                        \u001b[0mhead\u001b[0m\u001b[1;33m,\u001b[0m \u001b[0mauthor\u001b[0m\u001b[1;33m=\u001b[0m\u001b[0mauthor\u001b[0m\u001b[1;33m,\u001b[0m \u001b[0mcommitter\u001b[0m\u001b[1;33m=\u001b[0m\u001b[0mcommitter\u001b[0m\u001b[1;33m,\u001b[0m\u001b[1;33m\u001b[0m\u001b[1;33m\u001b[0m\u001b[0m\n\u001b[1;32m--> 994\u001b[1;33m                                        author_date=author_date, commit_date=commit_date)\n\u001b[0m\u001b[0;32m    995\u001b[0m         \u001b[1;32mif\u001b[0m \u001b[1;32mnot\u001b[0m \u001b[0mskip_hooks\u001b[0m\u001b[1;33m:\u001b[0m\u001b[1;33m\u001b[0m\u001b[1;33m\u001b[0m\u001b[0m\n\u001b[0;32m    996\u001b[0m             \u001b[0mrun_commit_hook\u001b[0m\u001b[1;33m(\u001b[0m\u001b[1;34m'post-commit'\u001b[0m\u001b[1;33m,\u001b[0m \u001b[0mself\u001b[0m\u001b[1;33m)\u001b[0m\u001b[1;33m\u001b[0m\u001b[1;33m\u001b[0m\u001b[0m\n",
      "\u001b[1;32mc:\\programdata\\miniconda3\\lib\\site-packages\\git\\objects\\commit.py\u001b[0m in \u001b[0;36mcreate_from_tree\u001b[1;34m(cls, repo, tree, message, parent_commits, head, author, committer, author_date, commit_date)\u001b[0m\n\u001b[0;32m    485\u001b[0m         \u001b[0mcommitter_date_str\u001b[0m \u001b[1;33m=\u001b[0m \u001b[0menv\u001b[0m\u001b[1;33m.\u001b[0m\u001b[0mget\u001b[0m\u001b[1;33m(\u001b[0m\u001b[0mcls\u001b[0m\u001b[1;33m.\u001b[0m\u001b[0menv_committer_date\u001b[0m\u001b[1;33m,\u001b[0m \u001b[1;34m''\u001b[0m\u001b[1;33m)\u001b[0m\u001b[1;33m\u001b[0m\u001b[1;33m\u001b[0m\u001b[0m\n\u001b[0;32m    486\u001b[0m         \u001b[1;32mif\u001b[0m \u001b[0mcommit_date\u001b[0m\u001b[1;33m:\u001b[0m\u001b[1;33m\u001b[0m\u001b[1;33m\u001b[0m\u001b[0m\n\u001b[1;32m--> 487\u001b[1;33m             \u001b[0mcommitter_time\u001b[0m\u001b[1;33m,\u001b[0m \u001b[0mcommitter_offset\u001b[0m \u001b[1;33m=\u001b[0m \u001b[0mparse_date\u001b[0m\u001b[1;33m(\u001b[0m\u001b[0mcommit_date\u001b[0m\u001b[1;33m)\u001b[0m\u001b[1;33m\u001b[0m\u001b[1;33m\u001b[0m\u001b[0m\n\u001b[0m\u001b[0;32m    488\u001b[0m         \u001b[1;32melif\u001b[0m \u001b[0mcommitter_date_str\u001b[0m\u001b[1;33m:\u001b[0m\u001b[1;33m\u001b[0m\u001b[1;33m\u001b[0m\u001b[0m\n\u001b[0;32m    489\u001b[0m             \u001b[0mcommitter_time\u001b[0m\u001b[1;33m,\u001b[0m \u001b[0mcommitter_offset\u001b[0m \u001b[1;33m=\u001b[0m \u001b[0mparse_date\u001b[0m\u001b[1;33m(\u001b[0m\u001b[0mcommitter_date_str\u001b[0m\u001b[1;33m)\u001b[0m\u001b[1;33m\u001b[0m\u001b[1;33m\u001b[0m\u001b[0m\n",
      "\u001b[1;32mc:\\programdata\\miniconda3\\lib\\site-packages\\git\\objects\\util.py\u001b[0m in \u001b[0;36mparse_date\u001b[1;34m(string_date)\u001b[0m\n\u001b[0;32m    257\u001b[0m         \u001b[1;31m# END handle format\u001b[0m\u001b[1;33m\u001b[0m\u001b[1;33m\u001b[0m\u001b[1;33m\u001b[0m\u001b[0m\n\u001b[0;32m    258\u001b[0m     \u001b[1;32mexcept\u001b[0m \u001b[0mException\u001b[0m \u001b[1;32mas\u001b[0m \u001b[0me\u001b[0m\u001b[1;33m:\u001b[0m\u001b[1;33m\u001b[0m\u001b[1;33m\u001b[0m\u001b[0m\n\u001b[1;32m--> 259\u001b[1;33m         \u001b[1;32mraise\u001b[0m \u001b[0mValueError\u001b[0m\u001b[1;33m(\u001b[0m\u001b[1;34mf\"Unsupported date format or type: {string_date}, type={type(string_date)}\"\u001b[0m\u001b[1;33m)\u001b[0m \u001b[1;32mfrom\u001b[0m \u001b[0me\u001b[0m\u001b[1;33m\u001b[0m\u001b[1;33m\u001b[0m\u001b[0m\n\u001b[0m\u001b[0;32m    260\u001b[0m     \u001b[1;31m# END handle exceptions\u001b[0m\u001b[1;33m\u001b[0m\u001b[1;33m\u001b[0m\u001b[1;33m\u001b[0m\u001b[0m\n\u001b[0;32m    261\u001b[0m \u001b[1;33m\u001b[0m\u001b[0m\n",
      "\u001b[1;31mValueError\u001b[0m: Unsupported date format or type: time.struct_time(tm_year=2022, tm_mon=2, tm_mday=25, tm_hour=21, tm_min=33, tm_sec=7, tm_wday=4, tm_yday=56, tm_isdst=0), type=<class 'time.struct_time'>"
     ]
    }
   ],
   "source": [
    "# set up repo\n",
    "# path = os.path.join('C:/', 'Users/7h47c/Desktop', 'my-new-repo')  # Windows issues with path\n",
    "path = os.path.join(os.getcwd(), 'my-new-repo')\n",
    "repo = git.Repo.init(path)\n",
    "\n",
    "# get matches and revisions\n",
    "match = g.get_id('demographics_module_v2.ipynb')[0]\n",
    "revisions = g.get_revisions(match['id'])\n",
    "\n",
    "for i, r in enumerate(revisions):\n",
    "    # get file info\n",
    "    file_path = os.path.join(path, match['name'])\n",
    "\n",
    "    # set commit date\n",
    "    print(r['modifiedTime'])\n",
    "    parsed_date = datetime.datetime.strptime(r['modifiedTime'], '%Y-%m-%dT%H:%M:%S.%fZ')\n",
    "    tz = pytz.timezone('UTC')\n",
    "    cdate = tz.localize(parsed_date)\n",
    "\n",
    "    # make file\n",
    "    g.stream_file(match['id'], r=r['id'], out=file_path)\n",
    "    while not os.path.exists(file_path):\n",
    "        datetime.time.sleep(1)\n",
    "\n",
    "    # commit to repo\n",
    "    repo.index.add([file_path])\n",
    "    repo.index.commit(f'Version {i+1} commit.', commit_date=cdate.utctimetuple())  # add author or committer args\n",
    "    \n",
    "    # remove temporary file\n",
    "    if r['id'] != revisions[-1]['id']:\n",
    "        os.remove(file_path)"
   ]
  }
 ],
 "metadata": {
  "colab": {
   "name": "google_apis.ipynb",
   "provenance": []
  },
  "kernelspec": {
   "display_name": "Python 3",
   "language": "python",
   "name": "python3"
  },
  "language_info": {
   "codemirror_mode": {
    "name": "ipython",
    "version": 3
   },
   "file_extension": ".py",
   "mimetype": "text/x-python",
   "name": "python",
   "nbconvert_exporter": "python",
   "pygments_lexer": "ipython3",
   "version": "3.7.9"
  }
 },
 "nbformat": 4,
 "nbformat_minor": 5
}
