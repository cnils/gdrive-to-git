{
 "cells": [
  {
   "cell_type": "markdown",
   "id": "c45acd0e-2ce5-41bd-8962-aab4b0c8caf8",
   "metadata": {},
   "source": [
    "# Google Workspace APIs\n",
    "https://console.cloud.google.com/"
   ]
  },
  {
   "cell_type": "markdown",
   "id": "6d54819b-412a-41ca-8df4-ba3d0280ed3b",
   "metadata": {},
   "source": [
    "Import packages."
   ]
  },
  {
   "cell_type": "code",
   "execution_count": null,
   "id": "b28f3663-9195-43c9-8916-dd71bf44cfa2",
   "metadata": {},
   "outputs": [],
   "source": [
    "import os.path\n",
    "from google.auth.transport.requests import Request\n",
    "from google.oauth2.credentials import Credentials\n",
    "from google_auth_oauthlib.flow import InstalledAppFlow\n",
    "from googleapiclient.discovery import build\n",
    "from googleapiclient.errors import HttpError"
   ]
  },
  {
   "cell_type": "markdown",
   "id": "70b304da-a9ca-44ce-8ea9-61b5cff1beb9",
   "metadata": {},
   "source": [
    "Google API class (based on `quickstart.py`)."
   ]
  },
  {
   "cell_type": "code",
   "execution_count": null,
   "id": "5abd2173-0ae3-404e-aa64-7cfb07ebf85e",
   "metadata": {},
   "outputs": [],
   "source": [
    "class GoogleAPI:\n",
    "    def __init__(self):\n",
    "        # if modifying scopes, delete token.json\n",
    "        self.scopes = ['https://www.googleapis.com/auth/drive.metadata.readonly']\n",
    "        self.creds = None\n",
    "        self.credentials()\n",
    "        self.connect()\n",
    "    \n",
    "    def credentials(self):\n",
    "        # token.json stores credentials (user access and refresh tokens)\n",
    "        # token created automatically when the authorization flow completes for the first time\n",
    "        if os.path.exists('token.json'):\n",
    "            self.creds = Credentials.from_authorized_user_file('token.json', self.scopes)\n",
    "        # if no (valid) credentials available, let user log in\n",
    "        if not self.creds or not self.creds.valid:\n",
    "            if self.creds and self.creds.expired and self.creds.refresh_token:\n",
    "                self.creds.refresh(Request())\n",
    "            else:\n",
    "                flow = InstalledAppFlow.from_client_secrets_file('credentials.json', self.scopes)\n",
    "                self.creds = flow.run_local_server(port=8080)  # port MUST match redirect URI in Google App\n",
    "            # save credentials for the next run\n",
    "            with open('token.json', 'w') as token:\n",
    "                token.write(self.creds.to_json())\n",
    "                \n",
    "    def connect(self):\n",
    "        # attempt to connect to the API\n",
    "        try:\n",
    "            self.service = build('drive', 'v3', credentials=self.creds)\n",
    "            # self.service = build('gmail', 'v1', credentials=self.creds)  # use later for gmail...\n",
    "        except HttpError as error:\n",
    "            print(f'An error occurred: {error}')"
   ]
  },
  {
   "cell_type": "markdown",
   "id": "ee0eae73-d36b-4dd4-a14b-d95b187b73f5",
   "metadata": {},
   "source": [
    "Connect to API."
   ]
  },
  {
   "cell_type": "code",
   "execution_count": null,
   "id": "7194e137-0a7f-4a80-a1ac-425b912a5d9f",
   "metadata": {},
   "outputs": [],
   "source": [
    "g = GoogleAPI()"
   ]
  },
  {
   "cell_type": "markdown",
   "id": "bae14cc1-6ff9-4cf1-9890-98f5550c65e4",
   "metadata": {},
   "source": [
    "## Get data"
   ]
  },
  {
   "cell_type": "code",
   "execution_count": null,
   "id": "9302ce70-55af-4617-a4b6-0ba958c0d4e1",
   "metadata": {
    "tags": []
   },
   "outputs": [],
   "source": [
    "# search for file\n",
    "q =  'name contains \"demographics_module_v2\" '\n",
    "# q += 'and mimeType = \"application/vnd.google-apps.folder\"'\n",
    "g.service.files().list(q=q).execute()"
   ]
  },
  {
   "cell_type": "code",
   "execution_count": null,
   "id": "1f8b2e6c-9856-4ff7-87ea-627884ea2b02",
   "metadata": {
    "tags": []
   },
   "outputs": [],
   "source": [
    "# revisions with file id\n",
    "g.service.revisions().list(fileId='15Hs_f0vVPc7piwFewi9SbBe7Sm5h80bO').execute()"
   ]
  },
  {
   "cell_type": "code",
   "execution_count": null,
   "id": "6115118c-5bb5-4e7a-970b-0ec15ea19234",
   "metadata": {},
   "outputs": [],
   "source": [
    "# get file (add revisionId???)\n",
    "g.service.files().get_media(fileId='15Hs_f0vVPc7piwFewi9SbBe7Sm5h80bO').execute()\n",
    "# g.service.permissions().list(fileId='15Hs_f0vVPc7piwFewi9SbBe7Sm5h80bO').execute()"
   ]
  },
  {
   "cell_type": "code",
   "execution_count": null,
   "id": "7731bf3f-01f4-49f5-9a22-31b3667c0a9d",
   "metadata": {},
   "outputs": [],
   "source": [
    "# compare snapshots"
   ]
  },
  {
   "cell_type": "code",
   "execution_count": null,
   "id": "9c7f915d-30c2-441a-97e1-fad35124ab2a",
   "metadata": {},
   "outputs": [],
   "source": [
    "# git..."
   ]
  }
 ],
 "metadata": {
  "kernelspec": {
   "display_name": "Python 3",
   "language": "python",
   "name": "python3"
  },
  "language_info": {
   "codemirror_mode": {
    "name": "ipython",
    "version": 3
   },
   "file_extension": ".py",
   "mimetype": "text/x-python",
   "name": "python",
   "nbconvert_exporter": "python",
   "pygments_lexer": "ipython3",
   "version": "3.7.9"
  }
 },
 "nbformat": 4,
 "nbformat_minor": 5
}
