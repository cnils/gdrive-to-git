{
 "cells": [
  {
   "cell_type": "markdown",
   "id": "c45acd0e-2ce5-41bd-8962-aab4b0c8caf8",
   "metadata": {
    "id": "c45acd0e-2ce5-41bd-8962-aab4b0c8caf8"
   },
   "source": [
    "# Google Workspace APIs\n",
    "Use Google's Workspace API (managed here https://console.cloud.google.com/) for various tasks.\n",
    "\n",
    "Credentials can be downloaded as `credentials.json` from the API Credentials and used to produce `token.json` for persistent use. OAuth 2.0 requires the redirect URI in the app and in the \"Flow\" - within the code - to be the same (the default port for localhost is 8080). It's also worth noting that for apps in \"testing,\" users need to be added via the OAuth consent screen, although in testing \"scope\" does not need to be specified in the API (it can be tested and switched in the code)."
   ]
  },
  {
   "cell_type": "markdown",
   "id": "6d54819b-412a-41ca-8df4-ba3d0280ed3b",
   "metadata": {
    "id": "6d54819b-412a-41ca-8df4-ba3d0280ed3b"
   },
   "source": [
    "Import packages."
   ]
  },
  {
   "cell_type": "code",
   "execution_count": null,
   "id": "b28f3663-9195-43c9-8916-dd71bf44cfa2",
   "metadata": {
    "id": "b28f3663-9195-43c9-8916-dd71bf44cfa2"
   },
   "outputs": [],
   "source": [
    "import io\n",
    "import os\n",
    "from google.auth.transport.requests import Request\n",
    "from google.oauth2.credentials import Credentials\n",
    "from google_auth_oauthlib.flow import InstalledAppFlow\n",
    "from googleapiclient.discovery import build\n",
    "from googleapiclient.errors import HttpError\n",
    "from googleapiclient.http import MediaIoBaseDownload\n",
    "import pytz\n",
    "import datetime\n",
    "import git"
   ]
  },
  {
   "cell_type": "markdown",
   "id": "70b304da-a9ca-44ce-8ea9-61b5cff1beb9",
   "metadata": {
    "id": "70b304da-a9ca-44ce-8ea9-61b5cff1beb9"
   },
   "source": [
    "Google API class (based on `quickstart.py`)."
   ]
  },
  {
   "cell_type": "code",
   "execution_count": null,
   "id": "5abd2173-0ae3-404e-aa64-7cfb07ebf85e",
   "metadata": {
    "id": "5abd2173-0ae3-404e-aa64-7cfb07ebf85e"
   },
   "outputs": [],
   "source": [
    "class GoogleDrive:\n",
    "    def __init__(self):\n",
    "        # delete token.json before changing these\n",
    "        self.scopes = [\n",
    "            # 'https://www.googleapis.com/auth/drive.metadata.readonly',\n",
    "            'https://www.googleapis.com/auth/drive.readonly'\n",
    "        ]\n",
    "        self.creds = None\n",
    "        self.credentials()\n",
    "        self.connect()\n",
    "    \n",
    "    def credentials(self):\n",
    "        # store credentials (user access and refresh tokens)\n",
    "        if os.path.exists('token.json'):\n",
    "            self.creds = Credentials.from_authorized_user_file('token.json', self.scopes)\n",
    "        # if no (valid) credentials available, let user log in\n",
    "        if not self.creds or not self.creds.valid:\n",
    "            if self.creds and self.creds.expired and self.creds.refresh_token:\n",
    "                self.creds.refresh(Request())\n",
    "            else:\n",
    "                flow = InstalledAppFlow.from_client_secrets_file('credentials.json', self.scopes)\n",
    "                self.creds = flow.run_local_server()  # port MUST match redirect URI in Google App\n",
    "            # save credentials for the next run\n",
    "            with open('token.json', 'w') as token:\n",
    "                token.write(self.creds.to_json())\n",
    "                \n",
    "    def connect(self):\n",
    "        # attempt to connect to the API\n",
    "        try:\n",
    "            self.service = build('drive', 'v3', credentials=self.creds)\n",
    "            # self.service = build('gmail', 'v1', credentials=self.creds)  # use later for gmail...\n",
    "        except HttpError as error:\n",
    "            print(f'An error occurred: {error}')\n",
    "            \n",
    "    def get_id(self, values, term='name', operator='=', ftype='file', ignore_trashed=True):\n",
    "        q = f'{term} {operator} \"{values}\" '\n",
    "        if ftype == 'folder':\n",
    "            q += 'and mimeType = \"application/vnd.google-apps.folder\" '\n",
    "        elif ftype == 'json':\n",
    "            q += 'and mimeType = \"application/json\" '\n",
    "        if ignore_trashed:\n",
    "            q += 'and trashed = false'\n",
    "        l = self.service.files().list(q=q).execute()\n",
    "        \n",
    "        return l['files']\n",
    "            \n",
    "    def folder_contents(self, i, ignore_trashed=True):\n",
    "        q = f'\"{i}\" in parents '\n",
    "        if ignore_trashed:\n",
    "            q += 'and trashed = false '\n",
    "        l = g.service.files().list(q=q).execute()\n",
    "        \n",
    "        return l['files']\n",
    "        \n",
    "    def get_revisions(self, i):\n",
    "        try:\n",
    "            r = self.service.revisions().list(fileId=i).execute()\n",
    "        \n",
    "            return r['revisions']\n",
    "        \n",
    "        except:\n",
    "            return\n",
    "        \n",
    "    def qry_fields(self, i, r=None, fields=['parents']):\n",
    "        if r is None:\n",
    "            p = self.service.files().get(fileId=i, fields=','.join(fields)).execute()\n",
    "        else:\n",
    "            p = self.service.revisions().get(fileId=i, revisionId=r, fields=','.join(fields)).execute()\n",
    "        \n",
    "        return {f: p[f] for f in fields}\n",
    "    \n",
    "    def stream_file(self, i, r=None, out='stream', verbose=False):\n",
    "        if r is None:\n",
    "            request = self.service.files().get_media(fileId=i)\n",
    "        else:\n",
    "            request = self.service.revisions().get_media(fileId=i, revisionId=r)\n",
    "        \n",
    "        if out in ['stream', 'str']:\n",
    "            stream = io.BytesIO()\n",
    "        else:\n",
    "            stream = io.FileIO(out, mode='w')\n",
    "        downloader = MediaIoBaseDownload(stream, request)\n",
    "        done = False\n",
    "        while not done:\n",
    "            status, done = downloader.next_chunk()\n",
    "            if verbose:\n",
    "                print(f'Download {int(status.progress() * 100)}%')\n",
    "        if verbose:\n",
    "            print(f'Size {status.total_size / 1024 / 1024:.2f}MB')\n",
    "\n",
    "        if out in ['str']:\n",
    "            return stream.getvalue()\n",
    "        else:\n",
    "            return stream"
   ]
  },
  {
   "cell_type": "markdown",
   "id": "ee0eae73-d36b-4dd4-a14b-d95b187b73f5",
   "metadata": {
    "id": "ee0eae73-d36b-4dd4-a14b-d95b187b73f5"
   },
   "source": [
    "Connect to API."
   ]
  },
  {
   "cell_type": "code",
   "execution_count": null,
   "id": "7194e137-0a7f-4a80-a1ac-425b912a5d9f",
   "metadata": {
    "id": "7194e137-0a7f-4a80-a1ac-425b912a5d9f"
   },
   "outputs": [],
   "source": [
    "g = GoogleDrive()"
   ]
  },
  {
   "cell_type": "markdown",
   "id": "bae14cc1-6ff9-4cf1-9890-98f5550c65e4",
   "metadata": {
    "id": "bae14cc1-6ff9-4cf1-9890-98f5550c65e4"
   },
   "source": [
    "## Get data"
   ]
  },
  {
   "cell_type": "code",
   "execution_count": null,
   "id": "9302ce70-55af-4617-a4b6-0ba958c0d4e1",
   "metadata": {
    "id": "9302ce70-55af-4617-a4b6-0ba958c0d4e1",
    "tags": []
   },
   "outputs": [],
   "source": [
    "# get file info\n",
    "matches = g.get_id('demographics_module_v2.ipynb')\n",
    "parents = [g.qry_fields(m['id']) for m in matches][0]\n",
    "revisions = [g.get_revisions(m['id']) for m in matches][0]\n",
    "orig = [{m['name']: g.qry_fields(m['id'], fields=['originalFilename'])} for m in matches]"
   ]
  },
  {
   "cell_type": "markdown",
   "id": "abbc79cc-d806-42b8-b480-330cad753a28",
   "metadata": {
    "id": "abbc79cc-d806-42b8-b480-330cad753a28"
   },
   "source": [
    "## Commit to new `git` repo"
   ]
  },
  {
   "cell_type": "code",
   "execution_count": null,
   "id": "9c7f915d-30c2-441a-97e1-fad35124ab2a",
   "metadata": {
    "id": "9c7f915d-30c2-441a-97e1-fad35124ab2a",
    "tags": []
   },
   "outputs": [],
   "source": [
    "# set up repo\n",
    "# path = os.path.join('C:/', 'Users/7h47c/Desktop', 'my-new-repo')  # Windows issues with path\n",
    "path = os.path.join(os.getcwd(), 'my-new-repo')\n",
    "repo = git.Repo.init(path, expand_vars=False)\n",
    "author = git.Actor(name='Craiggers', email='7h47ch@gmail.com')\n",
    "utc = pytz.timezone('UTC')\n",
    "tz = pytz.timezone('US/Eastern')\n",
    "\n",
    "# get matches and revisions\n",
    "match = g.get_id('demographics_module_v2.ipynb')[0]\n",
    "revisions = g.get_revisions(match['id'])\n",
    "\n",
    "for i, r in enumerate(revisions):\n",
    "    # get file info\n",
    "    file_path = os.path.join(path, match['name'])\n",
    "\n",
    "    # set commit date\n",
    "    parsed_date = datetime.datetime.strptime(r['modifiedTime'], '%Y-%m-%dT%H:%M:%S.%fZ')\n",
    "    cdate = utc.localize(parsed_date).astimezone(tz)\n",
    "    print(r['modifiedTime'], git.objects.util.parse_date(cdate))\n",
    "\n",
    "    # make file\n",
    "    g.stream_file(match['id'], r=r['id'], out=file_path)\n",
    "    while not os.path.exists(file_path):\n",
    "        datetime.time.sleep(1)\n",
    "\n",
    "    # commit to repo\n",
    "    repo.index.add([file_path])\n",
    "    repo.index.commit(f'Version {i+1} commit.', author=author, committer=author,\n",
    "                      author_date=cdate, commit_date=cdate)  # add author or committer args\n",
    "    \n",
    "    # remove temporary file\n",
    "    if r['id'] != revisions[-1]['id']:\n",
    "        os.remove(file_path)"
   ]
  }
 ],
 "metadata": {
  "colab": {
   "name": "google_apis.ipynb",
   "provenance": []
  },
  "kernelspec": {
   "display_name": "Python 3",
   "language": "python",
   "name": "python3"
  },
  "language_info": {
   "codemirror_mode": {
    "name": "ipython",
    "version": 3
   },
   "file_extension": ".py",
   "mimetype": "text/x-python",
   "name": "python",
   "nbconvert_exporter": "python",
   "pygments_lexer": "ipython3",
   "version": "3.7.9"
  }
 },
 "nbformat": 4,
 "nbformat_minor": 5
}
