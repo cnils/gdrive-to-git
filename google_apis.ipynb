{
 "cells": [
  {
   "cell_type": "markdown",
   "id": "c45acd0e-2ce5-41bd-8962-aab4b0c8caf8",
   "metadata": {
    "id": "c45acd0e-2ce5-41bd-8962-aab4b0c8caf8"
   },
   "source": [
    "# Google Workspace APIs\n",
    "Use Google's Workspace API (managed here https://console.cloud.google.com/) for various tasks.\n",
    "\n",
    "Credentials can be downloaded as `credentials.json` from the API Credentials and used to produce `token.json` for persistent use. OAuth 2.0 requires the redirect URI in the app and in the \"Flow\" - within the code - to be the same (the default port for localhost is 8080). It's also worth noting that for apps in \"testing,\" users need to be added via the OAuth consent screen, although in testing \"scope\" does not need to be specified in the API (it can be tested and switched in the code)."
   ]
  },
  {
   "cell_type": "markdown",
   "id": "6d54819b-412a-41ca-8df4-ba3d0280ed3b",
   "metadata": {
    "id": "6d54819b-412a-41ca-8df4-ba3d0280ed3b"
   },
   "source": [
    "Import packages."
   ]
  },
  {
   "cell_type": "code",
   "execution_count": 1,
   "id": "b28f3663-9195-43c9-8916-dd71bf44cfa2",
   "metadata": {
    "id": "b28f3663-9195-43c9-8916-dd71bf44cfa2"
   },
   "outputs": [],
   "source": [
    "import io\n",
    "import os\n",
    "from google.auth.transport.requests import Request\n",
    "from google.oauth2.credentials import Credentials\n",
    "from google_auth_oauthlib.flow import InstalledAppFlow\n",
    "from googleapiclient.discovery import build\n",
    "from googleapiclient.errors import HttpError\n",
    "from googleapiclient.http import MediaIoBaseDownload\n",
    "import pytz\n",
    "import datetime\n",
    "import git"
   ]
  },
  {
   "cell_type": "markdown",
   "id": "70b304da-a9ca-44ce-8ea9-61b5cff1beb9",
   "metadata": {
    "id": "70b304da-a9ca-44ce-8ea9-61b5cff1beb9"
   },
   "source": [
    "Google API class (based on `quickstart.py`)."
   ]
  },
  {
   "cell_type": "code",
   "execution_count": 2,
   "id": "5abd2173-0ae3-404e-aa64-7cfb07ebf85e",
   "metadata": {
    "id": "5abd2173-0ae3-404e-aa64-7cfb07ebf85e"
   },
   "outputs": [],
   "source": [
    "class GoogleDrive:\n",
    "    def __init__(self):\n",
    "        # delete token.json before changing these\n",
    "        self.scopes = [\n",
    "            # 'https://www.googleapis.com/auth/drive.metadata.readonly',\n",
    "            'https://www.googleapis.com/auth/drive.readonly'\n",
    "        ]\n",
    "        self.creds = None\n",
    "        self.credentials()\n",
    "        self.connect()\n",
    "    \n",
    "    def credentials(self):\n",
    "        # store credentials (user access and refresh tokens)\n",
    "        if os.path.exists('token.json'):\n",
    "            self.creds = Credentials.from_authorized_user_file('token.json', self.scopes)\n",
    "        # if no (valid) credentials available, let user log in\n",
    "        if not self.creds or not self.creds.valid:\n",
    "            if self.creds and self.creds.expired and self.creds.refresh_token:\n",
    "                self.creds.refresh(Request())\n",
    "            else:\n",
    "                flow = InstalledAppFlow.from_client_secrets_file('credentials.json', self.scopes)\n",
    "                self.creds = flow.run_local_server()  # port MUST match redirect URI in Google App\n",
    "            # save credentials for the next run\n",
    "            with open('token.json', 'w') as token:\n",
    "                token.write(self.creds.to_json())\n",
    "                \n",
    "    def connect(self):\n",
    "        # attempt to connect to the API\n",
    "        try:\n",
    "            self.service = build('drive', 'v3', credentials=self.creds)\n",
    "            # self.service = build('gmail', 'v1', credentials=self.creds)  # use later for gmail...\n",
    "        except HttpError as error:\n",
    "            print(f'An error occurred: {error}')\n",
    "            \n",
    "    def get_id(self, values, term='name', operator='=', ftype='file', ignore_trashed=True):\n",
    "        q = f'{term} {operator} \"{values}\" '\n",
    "        if ftype == 'folder':\n",
    "            q += 'and mimeType = \"application/vnd.google-apps.folder\" '\n",
    "        elif ftype == 'json':\n",
    "            q += 'and mimeType = \"application/json\" '\n",
    "        if ignore_trashed:\n",
    "            q += 'and trashed = false'\n",
    "        l = self.service.files().list(q=q).execute()\n",
    "        \n",
    "        return l['files']\n",
    "            \n",
    "    def folder_contents(self, i, ignore_trashed=True):\n",
    "        q = f'\"{i}\" in parents '\n",
    "        if ignore_trashed:\n",
    "            q += 'and trashed = false '\n",
    "        l = g.service.files().list(q=q).execute()\n",
    "        \n",
    "        return l['files']\n",
    "    \n",
    "    def create_folders(self, d):\n",
    "        try:\n",
    "            os.mkdir(d['path'])\n",
    "        except:\n",
    "            pass\n",
    "\n",
    "        for c in d['contents']:\n",
    "            if 'contents' in c.keys():\n",
    "                self.create_folders(c)\n",
    "            \n",
    "    def get_revisions(self, i):\n",
    "        try:\n",
    "            r = self.service.revisions().list(fileId=i).execute()\n",
    "        \n",
    "            return r['revisions']\n",
    "        \n",
    "        except:\n",
    "            return\n",
    "        \n",
    "    def qry_fields(self, i, r=None, fields=['parents']):\n",
    "        if r is None:\n",
    "            p = self.service.files().get(fileId=i, fields=','.join(fields)).execute()\n",
    "        else:\n",
    "            p = self.service.revisions().get(fileId=i, revisionId=r, fields=','.join(fields)).execute()\n",
    "        \n",
    "        return {f: p[f] for f in fields}\n",
    "    \n",
    "    def stream_file(self, i, r=None, out='stream', verbose=False):\n",
    "        if r is None:\n",
    "            request = self.service.files().get_media(fileId=i)\n",
    "        else:\n",
    "            request = self.service.revisions().get_media(fileId=i, revisionId=r)\n",
    "        \n",
    "        if out in ['stream', 'str']:\n",
    "            stream = io.BytesIO()\n",
    "        else:\n",
    "            stream = io.FileIO(out, mode='w')\n",
    "        downloader = MediaIoBaseDownload(stream, request)\n",
    "        done = False\n",
    "        while not done:\n",
    "            status, done = downloader.next_chunk()\n",
    "            if verbose:\n",
    "                print(f'Download {int(status.progress() * 100)}%')\n",
    "        if verbose:\n",
    "            print(f'Size {status.total_size / 1024 / 1024:.2f}MB')\n",
    "\n",
    "        if out in ['str']:\n",
    "            return stream.getvalue()\n",
    "        else:\n",
    "            return stream\n",
    "        \n",
    "    def folder_walk(self, folder, path=''):\n",
    "        # if root, set path to folder name\n",
    "        if path == '':\n",
    "            path = folder['name']\n",
    "\n",
    "        # scan contents\n",
    "        contents = []\n",
    "        for c in g.folder_contents(folder['id']):\n",
    "            if c['mimeType'] == 'application/vnd.google-apps.folder':\n",
    "                p = os.path.join(path, c['name'])\n",
    "                contents.append(self.folder_walk(c, path=p))\n",
    "            else:\n",
    "                f = {\n",
    "                    'path': os.path.join(path, c['name']),\n",
    "                    'id': c['id'],\n",
    "                    'type': c['mimeType'],\n",
    "                    'revisions': self.get_revisions(c['id'])\n",
    "                }\n",
    "                contents.append(f)\n",
    "                \n",
    "        # set up output dictionary\n",
    "        out = {\n",
    "            'path': path,\n",
    "            'id': folder['id'],\n",
    "            'type': folder['mimeType'],\n",
    "            'contents': contents\n",
    "        }\n",
    "                \n",
    "        return out\n",
    "    \n",
    "    def bundle_commits(self, structure, commits={}):\n",
    "        for c in structure['contents']:\n",
    "            if c['type'] == 'application/vnd.google-apps.folder':\n",
    "                commits = self.bundle_commits(c, commits=commits)\n",
    "            else:\n",
    "                if 'revisions' in c.keys():\n",
    "                    for r in c['revisions']:\n",
    "                        ret = {\n",
    "                            'path': c['path'],\n",
    "                            'id': c['id'],\n",
    "                            'rid': r['id']\n",
    "                        }\n",
    "                        k = r['modifiedTime']\n",
    "                        v = commits.get(k, [])\n",
    "                        if ret['rid'] not in [i['rid'] for i in v]:\n",
    "                            v.append(ret)\n",
    "                            commits.update({k: v})\n",
    "\n",
    "        return commits"
   ]
  },
  {
   "cell_type": "markdown",
   "id": "ee0eae73-d36b-4dd4-a14b-d95b187b73f5",
   "metadata": {
    "id": "ee0eae73-d36b-4dd4-a14b-d95b187b73f5"
   },
   "source": [
    "Connect to API."
   ]
  },
  {
   "cell_type": "code",
   "execution_count": 3,
   "id": "7194e137-0a7f-4a80-a1ac-425b912a5d9f",
   "metadata": {
    "id": "7194e137-0a7f-4a80-a1ac-425b912a5d9f"
   },
   "outputs": [],
   "source": [
    "g = GoogleDrive()"
   ]
  },
  {
   "cell_type": "markdown",
   "id": "bae14cc1-6ff9-4cf1-9890-98f5550c65e4",
   "metadata": {
    "id": "bae14cc1-6ff9-4cf1-9890-98f5550c65e4"
   },
   "source": [
    "## Get data"
   ]
  },
  {
   "cell_type": "code",
   "execution_count": null,
   "id": "9ac99d9b-9a9e-449c-b6da-c56a8733f062",
   "metadata": {
    "tags": []
   },
   "outputs": [],
   "source": [
    "# scout folders, files, and revisions\n",
    "# folder = g.get_id('tig', ftype='folder')[0]\n",
    "# recon = g.folder_walk(folder)\n",
    "\n",
    "# build out folder structure  \n",
    "# g.create_folders(recon)\n",
    "\n",
    "# set commit ordering\n",
    "# g.bundle_commits(recon)\n",
    "# sorted(t)"
   ]
  },
  {
   "cell_type": "markdown",
   "id": "abbc79cc-d806-42b8-b480-330cad753a28",
   "metadata": {
    "id": "abbc79cc-d806-42b8-b480-330cad753a28"
   },
   "source": [
    "## Commit to new `git` repo\n",
    "The GitPython package is as lazy as possible meaning that it takes arguments from existing git environmental variables where possible."
   ]
  },
  {
   "cell_type": "code",
   "execution_count": 12,
   "id": "9c7f915d-30c2-441a-97e1-fad35124ab2a",
   "metadata": {
    "id": "9c7f915d-30c2-441a-97e1-fad35124ab2a",
    "tags": []
   },
   "outputs": [
    {
     "ename": "FileNotFoundError",
     "evalue": "[WinError 3] The system cannot find the path specified: 'tig\\\\dtiga_rfmc_report.ipynb'",
     "output_type": "error",
     "traceback": [
      "\u001b[1;31m---------------------------------------------------------------------------\u001b[0m",
      "\u001b[1;31mFileNotFoundError\u001b[0m                         Traceback (most recent call last)",
      "\u001b[1;32m<ipython-input-12-0f9df41eb240>\u001b[0m in \u001b[0;36m<module>\u001b[1;34m\u001b[0m\n\u001b[0;32m     31\u001b[0m \u001b[1;33m\u001b[0m\u001b[0m\n\u001b[0;32m     32\u001b[0m     \u001b[1;31m# commit to repo\u001b[0m\u001b[1;33m\u001b[0m\u001b[1;33m\u001b[0m\u001b[1;33m\u001b[0m\u001b[0m\n\u001b[1;32m---> 33\u001b[1;33m     \u001b[0mrepo\u001b[0m\u001b[1;33m.\u001b[0m\u001b[0mindex\u001b[0m\u001b[1;33m.\u001b[0m\u001b[0madd\u001b[0m\u001b[1;33m(\u001b[0m\u001b[1;33m[\u001b[0m\u001b[0mr\u001b[0m\u001b[1;33m[\u001b[0m\u001b[1;34m'path'\u001b[0m\u001b[1;33m]\u001b[0m \u001b[1;32mfor\u001b[0m \u001b[0mr\u001b[0m \u001b[1;32min\u001b[0m \u001b[0mrevisions\u001b[0m\u001b[1;33m]\u001b[0m\u001b[1;33m)\u001b[0m\u001b[1;33m\u001b[0m\u001b[1;33m\u001b[0m\u001b[0m\n\u001b[0m\u001b[0;32m     34\u001b[0m     repo.index.commit(f'Google Drive to git auto-commit, update {i+1}.', author=author, committer=author,\n\u001b[0;32m     35\u001b[0m                       author_date=cdate, commit_date=cdate)  # add author or committer args\n",
      "\u001b[1;32mc:\\programdata\\miniconda3\\lib\\site-packages\\git\\index\\base.py\u001b[0m in \u001b[0;36madd\u001b[1;34m(self, items, force, fprogress, path_rewriter, write, write_extension_data)\u001b[0m\n\u001b[0;32m    770\u001b[0m         \u001b[1;31m# If there are no paths, the rewriter has nothing to do either\u001b[0m\u001b[1;33m\u001b[0m\u001b[1;33m\u001b[0m\u001b[1;33m\u001b[0m\u001b[0m\n\u001b[0;32m    771\u001b[0m         \u001b[1;32mif\u001b[0m \u001b[0mpaths\u001b[0m\u001b[1;33m:\u001b[0m\u001b[1;33m\u001b[0m\u001b[1;33m\u001b[0m\u001b[0m\n\u001b[1;32m--> 772\u001b[1;33m             \u001b[0mentries_added\u001b[0m\u001b[1;33m.\u001b[0m\u001b[0mextend\u001b[0m\u001b[1;33m(\u001b[0m\u001b[0mself\u001b[0m\u001b[1;33m.\u001b[0m\u001b[0m_entries_for_paths\u001b[0m\u001b[1;33m(\u001b[0m\u001b[0mpaths\u001b[0m\u001b[1;33m,\u001b[0m \u001b[0mpath_rewriter\u001b[0m\u001b[1;33m,\u001b[0m \u001b[0mfprogress\u001b[0m\u001b[1;33m,\u001b[0m \u001b[0mentries\u001b[0m\u001b[1;33m)\u001b[0m\u001b[1;33m)\u001b[0m\u001b[1;33m\u001b[0m\u001b[1;33m\u001b[0m\u001b[0m\n\u001b[0m\u001b[0;32m    773\u001b[0m \u001b[1;33m\u001b[0m\u001b[0m\n\u001b[0;32m    774\u001b[0m         \u001b[1;31m# HANDLE ENTRIES\u001b[0m\u001b[1;33m\u001b[0m\u001b[1;33m\u001b[0m\u001b[1;33m\u001b[0m\u001b[0m\n",
      "\u001b[1;32mc:\\programdata\\miniconda3\\lib\\site-packages\\git\\util.py\u001b[0m in \u001b[0;36mwrapper\u001b[1;34m(self, *args, **kwargs)\u001b[0m\n\u001b[0;32m    100\u001b[0m             \u001b[1;32mraise\u001b[0m \u001b[0mInvalidGitRepositoryError\u001b[0m\u001b[1;33m(\u001b[0m\u001b[1;34m\"Method '%s' cannot operate on bare repositories\"\u001b[0m \u001b[1;33m%\u001b[0m \u001b[0mfunc\u001b[0m\u001b[1;33m.\u001b[0m\u001b[0m__name__\u001b[0m\u001b[1;33m)\u001b[0m\u001b[1;33m\u001b[0m\u001b[1;33m\u001b[0m\u001b[0m\n\u001b[0;32m    101\u001b[0m         \u001b[1;31m# END bare method\u001b[0m\u001b[1;33m\u001b[0m\u001b[1;33m\u001b[0m\u001b[1;33m\u001b[0m\u001b[0m\n\u001b[1;32m--> 102\u001b[1;33m         \u001b[1;32mreturn\u001b[0m \u001b[0mfunc\u001b[0m\u001b[1;33m(\u001b[0m\u001b[0mself\u001b[0m\u001b[1;33m,\u001b[0m \u001b[1;33m*\u001b[0m\u001b[0margs\u001b[0m\u001b[1;33m,\u001b[0m \u001b[1;33m**\u001b[0m\u001b[0mkwargs\u001b[0m\u001b[1;33m)\u001b[0m\u001b[1;33m\u001b[0m\u001b[1;33m\u001b[0m\u001b[0m\n\u001b[0m\u001b[0;32m    103\u001b[0m     \u001b[1;31m# END wrapper\u001b[0m\u001b[1;33m\u001b[0m\u001b[1;33m\u001b[0m\u001b[1;33m\u001b[0m\u001b[0m\n\u001b[0;32m    104\u001b[0m \u001b[1;33m\u001b[0m\u001b[0m\n",
      "\u001b[1;32mc:\\programdata\\miniconda3\\lib\\site-packages\\git\\index\\util.py\u001b[0m in \u001b[0;36mset_git_working_dir\u001b[1;34m(self, *args, **kwargs)\u001b[0m\n\u001b[0;32m    101\u001b[0m         \u001b[0mos\u001b[0m\u001b[1;33m.\u001b[0m\u001b[0mchdir\u001b[0m\u001b[1;33m(\u001b[0m\u001b[0mstr\u001b[0m\u001b[1;33m(\u001b[0m\u001b[0mself\u001b[0m\u001b[1;33m.\u001b[0m\u001b[0mrepo\u001b[0m\u001b[1;33m.\u001b[0m\u001b[0mworking_tree_dir\u001b[0m\u001b[1;33m)\u001b[0m\u001b[1;33m)\u001b[0m\u001b[1;33m\u001b[0m\u001b[1;33m\u001b[0m\u001b[0m\n\u001b[0;32m    102\u001b[0m         \u001b[1;32mtry\u001b[0m\u001b[1;33m:\u001b[0m\u001b[1;33m\u001b[0m\u001b[1;33m\u001b[0m\u001b[0m\n\u001b[1;32m--> 103\u001b[1;33m             \u001b[1;32mreturn\u001b[0m \u001b[0mfunc\u001b[0m\u001b[1;33m(\u001b[0m\u001b[0mself\u001b[0m\u001b[1;33m,\u001b[0m \u001b[1;33m*\u001b[0m\u001b[0margs\u001b[0m\u001b[1;33m,\u001b[0m \u001b[1;33m**\u001b[0m\u001b[0mkwargs\u001b[0m\u001b[1;33m)\u001b[0m\u001b[1;33m\u001b[0m\u001b[1;33m\u001b[0m\u001b[0m\n\u001b[0m\u001b[0;32m    104\u001b[0m         \u001b[1;32mfinally\u001b[0m\u001b[1;33m:\u001b[0m\u001b[1;33m\u001b[0m\u001b[1;33m\u001b[0m\u001b[0m\n\u001b[0;32m    105\u001b[0m             \u001b[0mos\u001b[0m\u001b[1;33m.\u001b[0m\u001b[0mchdir\u001b[0m\u001b[1;33m(\u001b[0m\u001b[0mcur_wd\u001b[0m\u001b[1;33m)\u001b[0m\u001b[1;33m\u001b[0m\u001b[1;33m\u001b[0m\u001b[0m\n",
      "\u001b[1;32mc:\\programdata\\miniconda3\\lib\\site-packages\\git\\index\\base.py\u001b[0m in \u001b[0;36m_entries_for_paths\u001b[1;34m(self, paths, path_rewriter, fprogress, entries)\u001b[0m\n\u001b[0;32m    655\u001b[0m         \u001b[1;32massert\u001b[0m \u001b[0mlen\u001b[0m\u001b[1;33m(\u001b[0m\u001b[0mentries_added\u001b[0m\u001b[1;33m)\u001b[0m \u001b[1;33m==\u001b[0m \u001b[1;36m0\u001b[0m\u001b[1;33m\u001b[0m\u001b[1;33m\u001b[0m\u001b[0m\n\u001b[0;32m    656\u001b[0m         \u001b[1;32mfor\u001b[0m \u001b[0mfilepath\u001b[0m \u001b[1;32min\u001b[0m \u001b[0mself\u001b[0m\u001b[1;33m.\u001b[0m\u001b[0m_iter_expand_paths\u001b[0m\u001b[1;33m(\u001b[0m\u001b[0mpaths\u001b[0m\u001b[1;33m)\u001b[0m\u001b[1;33m:\u001b[0m\u001b[1;33m\u001b[0m\u001b[1;33m\u001b[0m\u001b[0m\n\u001b[1;32m--> 657\u001b[1;33m             \u001b[0mentries_added\u001b[0m\u001b[1;33m.\u001b[0m\u001b[0mappend\u001b[0m\u001b[1;33m(\u001b[0m\u001b[0mself\u001b[0m\u001b[1;33m.\u001b[0m\u001b[0m_store_path\u001b[0m\u001b[1;33m(\u001b[0m\u001b[0mfilepath\u001b[0m\u001b[1;33m,\u001b[0m \u001b[0mfprogress\u001b[0m\u001b[1;33m)\u001b[0m\u001b[1;33m)\u001b[0m\u001b[1;33m\u001b[0m\u001b[1;33m\u001b[0m\u001b[0m\n\u001b[0m\u001b[0;32m    658\u001b[0m         \u001b[1;31m# END for each filepath\u001b[0m\u001b[1;33m\u001b[0m\u001b[1;33m\u001b[0m\u001b[1;33m\u001b[0m\u001b[0m\n\u001b[0;32m    659\u001b[0m         \u001b[1;31m# END path handling\u001b[0m\u001b[1;33m\u001b[0m\u001b[1;33m\u001b[0m\u001b[1;33m\u001b[0m\u001b[0m\n",
      "\u001b[1;32mc:\\programdata\\miniconda3\\lib\\site-packages\\git\\index\\base.py\u001b[0m in \u001b[0;36m_store_path\u001b[1;34m(self, filepath, fprogress)\u001b[0m\n\u001b[0;32m    613\u001b[0m         \"\"\"Store file at filepath in the database and return the base index entry\n\u001b[0;32m    614\u001b[0m         Needs the git_working_dir decorator active ! This must be assured in the calling code\"\"\"\n\u001b[1;32m--> 615\u001b[1;33m         \u001b[0mst\u001b[0m \u001b[1;33m=\u001b[0m \u001b[0mos\u001b[0m\u001b[1;33m.\u001b[0m\u001b[0mlstat\u001b[0m\u001b[1;33m(\u001b[0m\u001b[0mfilepath\u001b[0m\u001b[1;33m)\u001b[0m     \u001b[1;31m# handles non-symlinks as well\u001b[0m\u001b[1;33m\u001b[0m\u001b[1;33m\u001b[0m\u001b[0m\n\u001b[0m\u001b[0;32m    616\u001b[0m         \u001b[1;32mif\u001b[0m \u001b[0mS_ISLNK\u001b[0m\u001b[1;33m(\u001b[0m\u001b[0mst\u001b[0m\u001b[1;33m.\u001b[0m\u001b[0mst_mode\u001b[0m\u001b[1;33m)\u001b[0m\u001b[1;33m:\u001b[0m\u001b[1;33m\u001b[0m\u001b[1;33m\u001b[0m\u001b[0m\n\u001b[0;32m    617\u001b[0m             \u001b[1;31m# in PY3, readlink is string, but we need bytes. In PY2, it's just OS encoded bytes, we assume UTF-8\u001b[0m\u001b[1;33m\u001b[0m\u001b[1;33m\u001b[0m\u001b[1;33m\u001b[0m\u001b[0m\n",
      "\u001b[1;31mFileNotFoundError\u001b[0m: [WinError 3] The system cannot find the path specified: 'tig\\\\dtiga_rfmc_report.ipynb'"
     ]
    }
   ],
   "source": [
    "# scout folders, files, and revisions\n",
    "name = 'tig'\n",
    "folder = g.get_id(name, ftype='folder')\n",
    "assert len(folder) == 1\n",
    "recon = g.folder_walk(folder[0])\n",
    "commits = g.bundle_commits(recon)\n",
    "dates = sorted(commits)\n",
    "\n",
    "# set up repo\n",
    "repo = git.Repo.init(name, expand_vars=False)\n",
    "author = git.Actor(name='Craig N', email='7h47ch@gmail.com')\n",
    "utc = pytz.timezone('UTC')\n",
    "tz = pytz.timezone('US/Eastern')\n",
    "\n",
    "# make folders\n",
    "g.create_folders(recon)\n",
    "\n",
    "# auto-commit\n",
    "for i, date in enumerate(dates):\n",
    "    # set commit date\n",
    "    parsed_date = datetime.datetime.strptime(date, '%Y-%m-%dT%H:%M:%S.%fZ')\n",
    "    cdate = utc.localize(parsed_date).astimezone(tz)\n",
    "    # print(r['modifiedTime'], git.objects.util.parse_date(cdate))\n",
    "\n",
    "    # make files\n",
    "    revisions = commits.get(date, [])\n",
    "    for r in revisions:\n",
    "        t = g.stream_file(r['id'], r=r['rid'], out=r['path'])  # need to create DIRECTORIES too!!!\n",
    "        while not os.path.isfile(r['path']):\n",
    "            datetime.time.sleep(1)\n",
    "\n",
    "    # commit to repo\n",
    "    repo.index.add([r['path'] for r in revisions])\n",
    "    repo.index.commit(f'Google Drive to git auto-commit, update {i+1}.', author=author, committer=author,\n",
    "                      author_date=cdate, commit_date=cdate)  # add author or committer args"
   ]
  },
  {
   "cell_type": "code",
   "execution_count": 14,
   "id": "acfbb08a-c0ff-4aad-860d-2e90aff1400b",
   "metadata": {},
   "outputs": [
    {
     "data": {
      "text/plain": [
       "False"
      ]
     },
     "execution_count": 14,
     "metadata": {},
     "output_type": "execute_result"
    }
   ],
   "source": [
    "t.closed"
   ]
  }
 ],
 "metadata": {
  "colab": {
   "name": "google_apis.ipynb",
   "provenance": []
  },
  "kernelspec": {
   "display_name": "Python 3",
   "language": "python",
   "name": "python3"
  },
  "language_info": {
   "codemirror_mode": {
    "name": "ipython",
    "version": 3
   },
   "file_extension": ".py",
   "mimetype": "text/x-python",
   "name": "python",
   "nbconvert_exporter": "python",
   "pygments_lexer": "ipython3",
   "version": "3.7.9"
  }
 },
 "nbformat": 4,
 "nbformat_minor": 5
}
